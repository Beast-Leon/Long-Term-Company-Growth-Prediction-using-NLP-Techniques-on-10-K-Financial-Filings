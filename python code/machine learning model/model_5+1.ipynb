{
 "cells": [
  {
   "cell_type": "code",
   "execution_count": 1,
   "id": "0a90c523",
   "metadata": {},
   "outputs": [],
   "source": [
    "import pandas as pd\n",
    "import xgboost as xgb\n",
    "import lightgbm as lgb\n",
    "from sklearn.ensemble import RandomForestClassifier\n",
    "from sklearn.tree import DecisionTreeClassifier\n",
    "from sklearn.ensemble import GradientBoostingClassifier\n",
    "from sklearn.naive_bayes import GaussianNB\n",
    "from sklearn.linear_model import LogisticRegression\n",
    "from sklearn.ensemble import StackingClassifier\n",
    "from sklearn.metrics import accuracy_score\n",
    "from sklearn import metrics\n",
    "from scipy.stats import randint as sp_randint\n",
    "from sklearn.model_selection import GridSearchCV\n",
    "from sklearn.model_selection import RandomizedSearchCV\n",
    "from sklearn.model_selection import cross_val_score, cross_validate\n",
    "from sklearn.model_selection import train_test_split"
   ]
  },
  {
   "cell_type": "code",
   "execution_count": 2,
   "id": "c5c69d2f",
   "metadata": {},
   "outputs": [
    {
     "data": {
      "text/html": [
       "<div>\n",
       "<style scoped>\n",
       "    .dataframe tbody tr th:only-of-type {\n",
       "        vertical-align: middle;\n",
       "    }\n",
       "\n",
       "    .dataframe tbody tr th {\n",
       "        vertical-align: top;\n",
       "    }\n",
       "\n",
       "    .dataframe thead th {\n",
       "        text-align: right;\n",
       "    }\n",
       "</style>\n",
       "<table border=\"1\" class=\"dataframe\">\n",
       "  <thead>\n",
       "    <tr style=\"text-align: right;\">\n",
       "      <th></th>\n",
       "      <th>Unnamed: 0</th>\n",
       "      <th>time</th>\n",
       "      <th>ticker</th>\n",
       "      <th>abnormal_return</th>\n",
       "      <th>y</th>\n",
       "      <th>volatility</th>\n",
       "      <th>reaction_positive</th>\n",
       "      <th>reaction_negative</th>\n",
       "      <th>volume_adi</th>\n",
       "      <th>volume_mfi</th>\n",
       "      <th>...</th>\n",
       "      <th>item7_polarity</th>\n",
       "      <th>item7_subjectivity</th>\n",
       "      <th>industry_B</th>\n",
       "      <th>industry_C</th>\n",
       "      <th>industry_D</th>\n",
       "      <th>industry_E</th>\n",
       "      <th>industry_F</th>\n",
       "      <th>industry_G</th>\n",
       "      <th>industry_H</th>\n",
       "      <th>industry_I</th>\n",
       "    </tr>\n",
       "  </thead>\n",
       "  <tbody>\n",
       "    <tr>\n",
       "      <th>0</th>\n",
       "      <td>0</td>\n",
       "      <td>2006</td>\n",
       "      <td>nwpx</td>\n",
       "      <td>0.635924</td>\n",
       "      <td>1</td>\n",
       "      <td>0.062822</td>\n",
       "      <td>5</td>\n",
       "      <td>6</td>\n",
       "      <td>-3.515938e+05</td>\n",
       "      <td>50.359009</td>\n",
       "      <td>...</td>\n",
       "      <td>0.519824</td>\n",
       "      <td>0.313428</td>\n",
       "      <td>0</td>\n",
       "      <td>0</td>\n",
       "      <td>1</td>\n",
       "      <td>0</td>\n",
       "      <td>0</td>\n",
       "      <td>0</td>\n",
       "      <td>0</td>\n",
       "      <td>0</td>\n",
       "    </tr>\n",
       "    <tr>\n",
       "      <th>1</th>\n",
       "      <td>1</td>\n",
       "      <td>2007</td>\n",
       "      <td>nwpx</td>\n",
       "      <td>0.026142</td>\n",
       "      <td>1</td>\n",
       "      <td>0.147784</td>\n",
       "      <td>5</td>\n",
       "      <td>6</td>\n",
       "      <td>-1.440436e+06</td>\n",
       "      <td>57.280553</td>\n",
       "      <td>...</td>\n",
       "      <td>0.487179</td>\n",
       "      <td>0.326236</td>\n",
       "      <td>0</td>\n",
       "      <td>0</td>\n",
       "      <td>1</td>\n",
       "      <td>0</td>\n",
       "      <td>0</td>\n",
       "      <td>0</td>\n",
       "      <td>0</td>\n",
       "      <td>0</td>\n",
       "    </tr>\n",
       "    <tr>\n",
       "      <th>2</th>\n",
       "      <td>2</td>\n",
       "      <td>2008</td>\n",
       "      <td>nwpx</td>\n",
       "      <td>-0.762775</td>\n",
       "      <td>0</td>\n",
       "      <td>0.180493</td>\n",
       "      <td>3</td>\n",
       "      <td>8</td>\n",
       "      <td>-1.414003e+06</td>\n",
       "      <td>53.844115</td>\n",
       "      <td>...</td>\n",
       "      <td>0.490050</td>\n",
       "      <td>0.307105</td>\n",
       "      <td>0</td>\n",
       "      <td>0</td>\n",
       "      <td>1</td>\n",
       "      <td>0</td>\n",
       "      <td>0</td>\n",
       "      <td>0</td>\n",
       "      <td>0</td>\n",
       "      <td>0</td>\n",
       "    </tr>\n",
       "    <tr>\n",
       "      <th>3</th>\n",
       "      <td>3</td>\n",
       "      <td>2010</td>\n",
       "      <td>nwpx</td>\n",
       "      <td>0.210231</td>\n",
       "      <td>1</td>\n",
       "      <td>0.075963</td>\n",
       "      <td>10</td>\n",
       "      <td>1</td>\n",
       "      <td>-4.214262e+06</td>\n",
       "      <td>50.947005</td>\n",
       "      <td>...</td>\n",
       "      <td>0.429119</td>\n",
       "      <td>0.321627</td>\n",
       "      <td>0</td>\n",
       "      <td>0</td>\n",
       "      <td>1</td>\n",
       "      <td>0</td>\n",
       "      <td>0</td>\n",
       "      <td>0</td>\n",
       "      <td>0</td>\n",
       "      <td>0</td>\n",
       "    </tr>\n",
       "    <tr>\n",
       "      <th>4</th>\n",
       "      <td>4</td>\n",
       "      <td>2011</td>\n",
       "      <td>nwpx</td>\n",
       "      <td>-0.013295</td>\n",
       "      <td>0</td>\n",
       "      <td>0.161627</td>\n",
       "      <td>6</td>\n",
       "      <td>5</td>\n",
       "      <td>-4.860406e+06</td>\n",
       "      <td>49.961210</td>\n",
       "      <td>...</td>\n",
       "      <td>0.500000</td>\n",
       "      <td>0.309386</td>\n",
       "      <td>0</td>\n",
       "      <td>0</td>\n",
       "      <td>1</td>\n",
       "      <td>0</td>\n",
       "      <td>0</td>\n",
       "      <td>0</td>\n",
       "      <td>0</td>\n",
       "      <td>0</td>\n",
       "    </tr>\n",
       "  </tbody>\n",
       "</table>\n",
       "<p>5 rows × 40 columns</p>\n",
       "</div>"
      ],
      "text/plain": [
       "   Unnamed: 0  time ticker  abnormal_return  y  volatility  reaction_positive  \\\n",
       "0           0  2006   nwpx         0.635924  1    0.062822                  5   \n",
       "1           1  2007   nwpx         0.026142  1    0.147784                  5   \n",
       "2           2  2008   nwpx        -0.762775  0    0.180493                  3   \n",
       "3           3  2010   nwpx         0.210231  1    0.075963                 10   \n",
       "4           4  2011   nwpx        -0.013295  0    0.161627                  6   \n",
       "\n",
       "   reaction_negative    volume_adi  volume_mfi  ...  item7_polarity  \\\n",
       "0                  6 -3.515938e+05   50.359009  ...        0.519824   \n",
       "1                  6 -1.440436e+06   57.280553  ...        0.487179   \n",
       "2                  8 -1.414003e+06   53.844115  ...        0.490050   \n",
       "3                  1 -4.214262e+06   50.947005  ...        0.429119   \n",
       "4                  5 -4.860406e+06   49.961210  ...        0.500000   \n",
       "\n",
       "   item7_subjectivity  industry_B  industry_C  industry_D  industry_E  \\\n",
       "0            0.313428           0           0           1           0   \n",
       "1            0.326236           0           0           1           0   \n",
       "2            0.307105           0           0           1           0   \n",
       "3            0.321627           0           0           1           0   \n",
       "4            0.309386           0           0           1           0   \n",
       "\n",
       "   industry_F  industry_G  industry_H  industry_I  \n",
       "0           0           0           0           0  \n",
       "1           0           0           0           0  \n",
       "2           0           0           0           0  \n",
       "3           0           0           0           0  \n",
       "4           0           0           0           0  \n",
       "\n",
       "[5 rows x 40 columns]"
      ]
     },
     "execution_count": 2,
     "metadata": {},
     "output_type": "execute_result"
    }
   ],
   "source": [
    "data = pd.read_csv(\"final_v5_dataset.csv\")\n",
    "data.head()"
   ]
  },
  {
   "cell_type": "code",
   "execution_count": 128,
   "id": "0e0529b0",
   "metadata": {},
   "outputs": [],
   "source": [
    "y=data['y']\n",
    "X=data.iloc[:,5:]"
   ]
  },
  {
   "cell_type": "code",
   "execution_count": 129,
   "id": "cde6e219",
   "metadata": {},
   "outputs": [],
   "source": [
    "# data processing for imbalanced data \n",
    "from sklearn.preprocessing import MinMaxScaler,StandardScaler\n",
    "from collections import Counter\n",
    "from imblearn.over_sampling import SMOTE \n",
    "standardizer = StandardScaler()\n",
    "sm = SMOTE(random_state=42) \n",
    "X_sm, y_sm = sm.fit_resample(X, y) \n",
    "X_train, X_test, y_train, y_test = train_test_split(X_sm, y_sm,test_size = 0.2,random_state = 150)\n",
    "standardizer.fit(X_train) \n",
    "X_train = standardizer.transform(X_train) \n",
    "X_test = standardizer.transform(X_test)\n"
   ]
  },
  {
   "cell_type": "code",
   "execution_count": 47,
   "id": "1438294d",
   "metadata": {},
   "outputs": [],
   "source": [
    "def algorithm_pipeline(X_train_data, X_test_data, y_train_data, y_test_data, \n",
    "                       model, param_grid, cv=5, scoring_fit='accuracy', \n",
    "                       scoring_test=accuracy_score):\n",
    "    \n",
    "    gs = GridSearchCV(\n",
    "        estimator=model,\n",
    "        param_grid=param_grid, \n",
    "        cv=cv, \n",
    "        # n_jobs=4, \n",
    "        scoring=scoring_fit,\n",
    "        verbose=1\n",
    "    )    \n",
    "    fitted_model = gs.fit(X_train_data, y_train_data)\n",
    "    best_model = fitted_model.best_estimator_\n",
    "    pred = fitted_model.predict(X_test_data)\n",
    "    score = scoring_test(y_test_data, pred)\n",
    "    \n",
    "    return [best_model, pred, score]"
   ]
  },
  {
   "cell_type": "code",
   "execution_count": 48,
   "id": "b96738bc",
   "metadata": {},
   "outputs": [],
   "source": [
    "grid_parameters = [\n",
    "    { # xgb  \n",
    "        #'n_estimators': [200,220,240,260],\n",
    "        #'max_depth': [8,9,10,11,12], \n",
    "        #'min_child_weight':range(1,10,2)\n",
    "        #'gamma':[i/10.0 for i in range(0,5)]\n",
    "        #'subsample':[0.9,1],\n",
    "        #'colsample_bytree':[0.9,1],\n",
    "        #'reg_alpha':[0,0.01,0.015,0.02],\n",
    "        #'eta':[0.15,0.2,0.25]\n",
    "    }, \n",
    "    { # lgbm\n",
    "        #'n_estimators': [i*20 for i in range(5,11)],\n",
    "        #'max_depth': [i for i in range(6,10)],\n",
    "        #'min_child_weight':range(1,10,2)\n",
    "        #'reg_alpha': [0,0.05,0.1],\n",
    "        #'learning_rate':[0.05,0.1,0.15]\n",
    "    }, \n",
    "    \n",
    "    { # randomforest\n",
    "        #'n_estimators': [200,220,240,260],\n",
    "        #'max_depth': [9,10,11,12], \n",
    "        #'max_features': [3,4,5,6],\n",
    "        #'min_samples_leaf': [3, 4, 5],\n",
    "        #'min_samples_split': [3,4,5,6]\n",
    "    },\n",
    "    { # dt\n",
    "        #'criterion': ['gini', 'entropy'],\n",
    "        #'max_depth': [9,10,11,12],\n",
    "        #'splitter': ['best', 'random'],\n",
    "        #'min_samples_leaf': [5, 10, 20, 50, 100],\n",
    "        \n",
    "    },\n",
    "    { # gradient boost\n",
    "        #'n_estimators': [200,220,240,260],\n",
    "        #'max_depth': [8,9,10,11,12],\n",
    "        #'min_samples_split':np.linspace(0.1, 1.0, 10, endpoint=True),\n",
    "        #'min_samples_leaf': np.linspace(0.1, 0.5, 5, endpoint=True),\n",
    "        #'max_features':list(range(1,35,3)),\n",
    "        #'learning_rate':[0.15,0.2,0.25]\n",
    "    },\n",
    " \n",
    "]"
   ]
  },
  {
   "cell_type": "code",
   "execution_count": null,
   "id": "fe73a2c4",
   "metadata": {},
   "outputs": [],
   "source": [
    "models_to_train = [xgb.XGBClassifier(eval_metric=['logloss','auc','error'],use_label_encoder=False,random_state = 88), \n",
    "                   lgb.LGBMClassifier(random_state = 88), RandomForestClassifier(random_state = 88),\n",
    "                   DecisionTreeClassifier(random_state = 88),  GradientBoostingClassifier(random_state = 88) ]\n",
    "#best_model, pred, score\n",
    "models_preds_scores = []\n",
    "\n",
    "# loop through each model, 4 in this case\n",
    "for i, model in enumerate(models_to_train):\n",
    "    params = grid_parameters[i]\n",
    "    \n",
    "    result = algorithm_pipeline(X_train, X_test, y_train, y_test,\n",
    "                                 model, params, cv=5)\n",
    "    models_preds_scores.append(result)"
   ]
  },
  {
   "cell_type": "code",
   "execution_count": null,
   "id": "13aecddc",
   "metadata": {},
   "outputs": [],
   "source": [
    "for result in models_preds_scores:\n",
    "    print('Model: {0}, Score: {1}'.format(result[0], result[2]))\n",
    "xgb_classifier = models_preds_scores[0][0]\n",
    "lgbm_classifier = models_preds_scores[1][0]\n",
    "rf_classifier = models_preds_scores[2][0]\n",
    "tree_classifier = models_preds_scores[3][0]\n",
    "gb_classifier= models_preds_scores[4][0]\n"
   ]
  },
  {
   "cell_type": "code",
   "execution_count": 130,
   "id": "15fbd0e6",
   "metadata": {},
   "outputs": [
    {
     "data": {
      "text/plain": [
       "GradientBoostingClassifier(max_depth=12, n_estimators=260, random_state=88)"
      ]
     },
     "execution_count": 130,
     "metadata": {},
     "output_type": "execute_result"
    }
   ],
   "source": [
    "xgb_classifier = xgb.XGBClassifier(base_score=0.5, booster='gbtree', colsample_bylevel=1,\n",
    "              colsample_bynode=1, colsample_bytree=1, eta=0.15,\n",
    "              eval_metric=['logloss', 'auc', 'error'], gamma=0, gpu_id=-1,\n",
    "              importance_type='gain', interaction_constraints='',\n",
    "              learning_rate=0.150000006, max_delta_step=0, max_depth=11,\n",
    "              min_child_weight=1, monotone_constraints='()',\n",
    "              n_estimators=260, n_jobs=10, num_parallel_tree=1, random_state=88,\n",
    "              reg_alpha=0, reg_lambda=1, scale_pos_weight=1, subsample=1,\n",
    "              tree_method='exact', use_label_encoder=False,\n",
    "              validate_parameters=1, verbosity=None)\n",
    "xgb_classifier.fit(X_train,y_train)\n",
    "lgbm_classifier = lgb.LGBMClassifier(max_depth=7, min_child_weight=1, n_estimators=120,\n",
    "               random_state=88, reg_alpha=0)\n",
    "lgbm_classifier.fit(X_train,y_train)\n",
    "rf_classifier = RandomForestClassifier(max_depth=12, max_features=5, min_samples_leaf=4,\n",
    "                       n_estimators=200, random_state=88)\n",
    "rf_classifier.fit(X_train,y_train)\n",
    "tree_classifier =  DecisionTreeClassifier(min_samples_leaf=10,max_depth=12,random_state = 88,splitter='random')\n",
    "tree_classifier.fit(X_train,y_train)\n",
    "gb_classifier = GradientBoostingClassifier(max_depth=12, n_estimators=260,random_state = 88)\n",
    "gb_classifier.fit(X_train,y_train)\n"
   ]
  },
  {
   "cell_type": "code",
   "execution_count": 153,
   "id": "0b0bee70",
   "metadata": {},
   "outputs": [
    {
     "name": "stdout",
     "output_type": "stream",
     "text": [
      "[0.7522123893805309, 0.7367256637168141, 0.7020648967551623, 0.6039823008849557, 0.7654867256637168]\n"
     ]
    }
   ],
   "source": [
    "def cal_score(model, X_test,y_test):\n",
    "    pred = model.predict(X_test)\n",
    "    accuracy = metrics.accuracy_score(y_test, pred)\n",
    "    return accuracy\n",
    "modelscore = []\n",
    "modelscore.append(cal_score(xgb_classifier,X_test,y_test))\n",
    "modelscore.append(cal_score(lgbm_classifier,X_test,y_test))\n",
    "modelscore.append(cal_score(rf_classifier,X_test,y_test))\n",
    "modelscore.append(cal_score(tree_classifier,X_test,y_test))\n",
    "modelscore.append(cal_score(gb_classifier,X_test,y_test))\n",
    "print(modelscore)"
   ]
  },
  {
   "cell_type": "markdown",
   "id": "e4ac6234",
   "metadata": {},
   "source": [
    "method 1"
   ]
  },
  {
   "cell_type": "code",
   "execution_count": 131,
   "id": "00c89a72",
   "metadata": {},
   "outputs": [],
   "source": [
    "from sklearn.ensemble import StackingClassifier\n",
    "def get_model(model_level1):\n",
    "    \n",
    "    level0 = []\n",
    "    level0.append(('xgb', xgb_classifier))\n",
    "    level0.append(('lgbm', lgbm_classifier))\n",
    "    level0.append(('rf', rf_classifier))\n",
    "    level0.append(('cart', tree_classifier))\n",
    "    level0.append(('gb',gb_classifier))\n",
    "   \n",
    "    level1 = model_level1\n",
    "   \n",
    "    model = StackingClassifier(estimators=level0, final_estimator=level1)\n",
    "    return model\n",
    "\n",
    "\n",
    "def train_model(model, X, y):\n",
    "    model.fit(X, y)\n",
    "    return model\n",
    "\n",
    "\n",
    "def evaluate_model(model, X_test, y_test):    \n",
    "    y_pred = model.predict(X_test)\n",
    "    score = accuracy_score(y_test, y_pred)\n",
    "    return score\n",
    "\n",
    "stacking_model_1 = get_model(LogisticRegression())\n",
    "stacking_model_1 = train_model(stacking_model_1, X_train, y_train)\n",
    "\n",
    "score_1 = evaluate_model(stacking_model_1, X_test, y_test)\n",
    "#print('Score of stacking model:', score_1)"
   ]
  },
  {
   "cell_type": "code",
   "execution_count": 132,
   "id": "7309a657",
   "metadata": {},
   "outputs": [
    {
     "name": "stdout",
     "output_type": "stream",
     "text": [
      "Score of stacking model: 0.7728613569321534\n"
     ]
    }
   ],
   "source": [
    "print('Score of stacking model:', score_1)\n",
    "# 0.7728613569321534"
   ]
  },
  {
   "cell_type": "code",
   "execution_count": 133,
   "id": "ae9e1334",
   "metadata": {},
   "outputs": [],
   "source": [
    "#'kernel': ['poly', 'rbf', 'sigmoid'], # you shoul duse only rbf, here is for illustration purpose \n",
    "#'C': [50, 10, 1.0, 0.1, 0.01], # There are two parameters, tune C carefully. (Gamma is decided by 'scale' option)\n",
    "#'gamma': ['scale']\n",
    "\n",
    "from sklearn.svm import SVC\n",
    "score = []\n",
    "for i in [10,1,0.1]:\n",
    "    stacking_model_2 = get_model(SVC(kernel = 'rbf',C=i, gamma = 'scale'))\n",
    "    stacking_model_2 = train_model(stacking_model_2, X_train, y_train)\n",
    "\n",
    "    score_2 = evaluate_model(stacking_model_2, X_test, y_test)\n",
    "    score.append(score_2)\n"
   ]
  },
  {
   "cell_type": "code",
   "execution_count": 134,
   "id": "84d90f0d",
   "metadata": {},
   "outputs": [
    {
     "name": "stdout",
     "output_type": "stream",
     "text": [
      "Score of stacking model: [0.7706489675516224, 0.7662241887905604, 0.7684365781710915]\n"
     ]
    }
   ],
   "source": [
    "print('Score of stacking model:', score)\n",
    "#0.7706489675516224"
   ]
  },
  {
   "cell_type": "code",
   "execution_count": 135,
   "id": "ab1d7f8d",
   "metadata": {},
   "outputs": [
    {
     "name": "stdout",
     "output_type": "stream",
     "text": [
      "Final prediction score: 0.772124\n"
     ]
    }
   ],
   "source": [
    "from mlxtend.classifier import StackingClassifier\n",
    "stack_classifier = StackingClassifier(classifiers=[xgb_classifier, lgbm_classifier, rf_classifier,tree_classifier,gb_classifier], \n",
    "                                     meta_classifier=LogisticRegression())\n",
    "\n",
    "stack_classifier.fit(X_train, y_train)\n",
    "y_pred = stack_classifier.predict(X_test)\n",
    "print('Final prediction score: %f' % accuracy_score(y_test, y_pred))\n",
    "#0.772124"
   ]
  },
  {
   "cell_type": "code",
   "execution_count": 146,
   "id": "0f5443e8",
   "metadata": {},
   "outputs": [
    {
     "name": "stdout",
     "output_type": "stream",
     "text": [
      "Final prediction score: 0.771386\n"
     ]
    }
   ],
   "source": [
    "from mlxtend.classifier import StackingClassifier\n",
    "stack_classifier = StackingClassifier(classifiers=[xgb_classifier, lgbm_classifier,rf_classifier,tree_classifier,gb_classifier], \n",
    "                                     meta_classifier=SVC(kernel = 'rbf',C=10, gamma = 'scale'))\n",
    "\n",
    "stack_classifier.fit(X_train, y_train)\n",
    "y_pred = stack_classifier.predict(X_test)\n",
    "print('Final prediction score: %f' % accuracy_score(y_test, y_pred))\n",
    "#0.771386"
   ]
  },
  {
   "cell_type": "code",
   "execution_count": 137,
   "id": "1293c422",
   "metadata": {},
   "outputs": [],
   "source": [
    "from vecstack import stacking\n",
    "level0_models = [xgb_classifier, lgbm_classifier, rf_classifier,tree_classifier,gb_classifier]\n",
    "S_train, S_test = stacking(level0_models, X_train, y_train, X_test, regression=False,\n",
    "                           mode='oof_pred_bag', needs_proba=False, save_dir=None,\n",
    "                           metric=accuracy_score, n_folds=5,  stratified=True,\n",
    "                           shuffle=True, random_state=0, verbose=0)"
   ]
  },
  {
   "cell_type": "code",
   "execution_count": 147,
   "id": "7b0006b9",
   "metadata": {},
   "outputs": [
    {
     "name": "stdout",
     "output_type": "stream",
     "text": [
      "Final prediction score: 0.769912\n"
     ]
    }
   ],
   "source": [
    "level1_model = LogisticRegression()\n",
    "\n",
    "level1_model = level1_model.fit(S_train, y_train)\n",
    "y_pred = level1_model.predict(S_test)\n",
    "print('Final prediction score: %f' % accuracy_score(y_test, y_pred))\n",
    "#0.769912"
   ]
  },
  {
   "cell_type": "code",
   "execution_count": 150,
   "id": "8909587d",
   "metadata": {},
   "outputs": [
    {
     "name": "stdout",
     "output_type": "stream",
     "text": [
      "Final prediction score: 0.771386\n"
     ]
    }
   ],
   "source": [
    "level1_model = SVC(kernel = 'rbf',C=1, gamma = 'scale')\n",
    "\n",
    "level1_model = level1_model.fit(S_train, y_train)\n",
    "y_pred = level1_model.predict(S_test)\n",
    "print('Final prediction score: %f' % accuracy_score(y_test, y_pred))"
   ]
  },
  {
   "cell_type": "markdown",
   "id": "524a8338",
   "metadata": {},
   "source": [
    "method 2"
   ]
  },
  {
   "cell_type": "code",
   "execution_count": 139,
   "id": "1b727f03",
   "metadata": {},
   "outputs": [],
   "source": [
    "from sklearn.model_selection import KFold\n",
    "from sklearn.model_selection import StratifiedKFold\n",
    "import numpy as np\n",
    "\n",
    "#olds = StratifiedKFold(n_splits = 5)\n",
    "def get_oof(clf ,x_train, y_train, x_test, n_folds = 5):\n",
    "    \"\"\"K-fold stacking\"\"\"\n",
    "    ntrain = X_train.shape[0]\n",
    "    ntest =  X_test.shape[0]\n",
    "    classnum = len(np.unique(y_train))\n",
    "    oof_test_skf = np.empty((5, ntest))\n",
    "    kf = KFold(n_splits=n_folds)\n",
    "    oof_train = np.zeros((ntrain,classnum))\n",
    "    oof_test = np.zeros((ntest,classnum))\n",
    "        \n",
    "    for i,(train_index,test_index) in enumerate(kf.split(X_train)):\n",
    "        #print(type(train_index))\n",
    "        \n",
    "        kf_X_train = X_train[train_index] # 数据\n",
    "        kf_y_train = y_train[train_index] # 标签\n",
    "        \n",
    "        kf_X_test = X_train[test_index]  # k-fold的验证集\n",
    "        \n",
    "        clf.fit(kf_X_train, kf_y_train)\n",
    "        \n",
    "        oof_train[test_index] = clf.predict_proba(kf_X_test)\n",
    "        #oof_test_skf[i,:]=clf.predict_proba(X_test)[:,0]\n",
    "        oof_test += clf.predict_proba(X_test)\n",
    "    oof_test = oof_test/float(n_folds)\n",
    "    return oof_train, oof_test"
   ]
  },
  {
   "cell_type": "code",
   "execution_count": 140,
   "id": "420f1e11",
   "metadata": {},
   "outputs": [],
   "source": [
    "# new feature input level1\n",
    "import functools \n",
    "newfeature_list_1 = []\n",
    "newtestdata_list_1 = []\n",
    "xgb_oof_train_1, xgb_oof_test_1 = get_oof(xgb_classifier,X_train, y_train.values, X_test)\n",
    "newfeature_list_1.append(xgb_oof_train_1)\n",
    "newtestdata_list_1.append(xgb_oof_test_1)\n",
    "\n",
    "lgbm_oof_train_1, xgb_oof_test_1 = get_oof(lgbm_classifier,X_train, y_train.values, X_test)\n",
    "newfeature_list_1.append(lgbm_oof_train_1)\n",
    "newtestdata_list_1.append(xgb_oof_test_1)\n",
    "\n",
    "rf_oof_train_1, rf_oof_test_1 = get_oof(rf_classifier,X_train, y_train.values, X_test)\n",
    "newfeature_list_1.append(rf_oof_train_1)\n",
    "newtestdata_list_1.append(rf_oof_test_1)\n",
    "\n",
    "dt_oof_train_1, dt_oof_test_1 = get_oof(tree_classifier,X_train, y_train.values, X_test)\n",
    "newfeature_list_1.append(dt_oof_train_1)\n",
    "newtestdata_list_1.append(dt_oof_test_1)\n",
    "\n",
    "gb_oof_train_1, gb_oof_test_1 = get_oof(gb_classifier,X_train, y_train.values, X_test)\n",
    "newfeature_list_1.append(gb_oof_train_1)\n",
    "newtestdata_list_1.append(gb_oof_test_1)\n"
   ]
  },
  {
   "cell_type": "code",
   "execution_count": 141,
   "id": "f861bb96",
   "metadata": {},
   "outputs": [],
   "source": [
    "newfeature_1 = functools.reduce(lambda x,y:np.concatenate((x,y),axis=1),newfeature_list_1)    \n",
    "newtestdata_1 =functools.reduce(lambda x,y:np.concatenate((x,y),axis=1),newtestdata_list_1)"
   ]
  },
  {
   "cell_type": "code",
   "execution_count": 142,
   "id": "ba3dd64e",
   "metadata": {
    "scrolled": true
   },
   "outputs": [
    {
     "name": "stdout",
     "output_type": "stream",
     "text": [
      "0.7802359882005899\n"
     ]
    }
   ],
   "source": [
    "lr = LogisticRegression()\n",
    "lr.fit(newfeature_1, y_train)\n",
    "pred_1 = lr.predict(newtestdata_1)\n",
    "accuracy_1 = accuracy_score(y_test, pred_1)\n",
    "print(accuracy_1)\n",
    "#0.7802359882005899"
   ]
  },
  {
   "cell_type": "code",
   "execution_count": 152,
   "id": "615d20ae",
   "metadata": {},
   "outputs": [
    {
     "name": "stdout",
     "output_type": "stream",
     "text": [
      "0.7721238938053098\n"
     ]
    }
   ],
   "source": [
    "from sklearn.svm import SVC\n",
    "svr = SVC(kernel = 'rbf',C=0.1, gamma = 'scale',probability=True)\n",
    "svr.fit(newfeature_1, y_train)\n",
    "pred_2 = svr.predict(newtestdata_1)\n",
    "accuracy_2 = accuracy_score(y_test, pred_2)\n",
    "print(accuracy_2)\n"
   ]
  }
 ],
 "metadata": {
  "kernelspec": {
   "display_name": "Python 3 (ipykernel)",
   "language": "python",
   "name": "python3"
  },
  "language_info": {
   "codemirror_mode": {
    "name": "ipython",
    "version": 3
   },
   "file_extension": ".py",
   "mimetype": "text/x-python",
   "name": "python",
   "nbconvert_exporter": "python",
   "pygments_lexer": "ipython3",
   "version": "3.7.11"
  }
 },
 "nbformat": 4,
 "nbformat_minor": 5
}
